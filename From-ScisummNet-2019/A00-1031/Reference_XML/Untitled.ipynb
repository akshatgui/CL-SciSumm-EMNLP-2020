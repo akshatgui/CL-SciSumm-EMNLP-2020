{
 "cells": [
  {
   "cell_type": "code",
   "execution_count": 22,
   "metadata": {},
   "outputs": [],
   "source": [
    "import xml.etree.ElementTree as ET"
   ]
  },
  {
   "cell_type": "code",
   "execution_count": 23,
   "metadata": {},
   "outputs": [],
   "source": [
    "tree = ET.parse(\"./A00-1031.xml\")\n",
    "root = tree.getroot()"
   ]
  },
  {
   "cell_type": "code",
   "execution_count": 27,
   "metadata": {},
   "outputs": [],
   "source": [
    "final1=[]\n",
    "final2=[]"
   ]
  },
  {
   "cell_type": "code",
   "execution_count": 28,
   "metadata": {},
   "outputs": [],
   "source": [
    "for a in root:\n",
    "    for b in a:\n",
    "        final1.append(b.text)\n",
    "        final2.append(a.attrib)"
   ]
  },
  {
   "cell_type": "code",
   "execution_count": 29,
   "metadata": {},
   "outputs": [],
   "source": [
    "import pandas as pd\n",
    "d={'col1':final1,'col2':final2}\n",
    "df = pd.DataFrame(data=d)"
   ]
  },
  {
   "cell_type": "code",
   "execution_count": 30,
   "metadata": {},
   "outputs": [
    {
     "data": {
      "text/html": [
       "<div>\n",
       "<style scoped>\n",
       "    .dataframe tbody tr th:only-of-type {\n",
       "        vertical-align: middle;\n",
       "    }\n",
       "\n",
       "    .dataframe tbody tr th {\n",
       "        vertical-align: top;\n",
       "    }\n",
       "\n",
       "    .dataframe thead th {\n",
       "        text-align: right;\n",
       "    }\n",
       "</style>\n",
       "<table border=\"1\" class=\"dataframe\">\n",
       "  <thead>\n",
       "    <tr style=\"text-align: right;\">\n",
       "      <th></th>\n",
       "      <th>col1</th>\n",
       "      <th>col2</th>\n",
       "    </tr>\n",
       "  </thead>\n",
       "  <tbody>\n",
       "    <tr>\n",
       "      <th>0</th>\n",
       "      <td>Trigrams'n'Tags (TnT) is an efficient statisti...</td>\n",
       "      <td>{}</td>\n",
       "    </tr>\n",
       "    <tr>\n",
       "      <th>1</th>\n",
       "      <td>Contrary to claims found elsewhere in the lite...</td>\n",
       "      <td>{}</td>\n",
       "    </tr>\n",
       "    <tr>\n",
       "      <th>2</th>\n",
       "      <td>A recent comparison has even shown that TnT pe...</td>\n",
       "      <td>{}</td>\n",
       "    </tr>\n",
       "    <tr>\n",
       "      <th>3</th>\n",
       "      <td>We describe the basic model of TnT, the techni...</td>\n",
       "      <td>{}</td>\n",
       "    </tr>\n",
       "    <tr>\n",
       "      <th>4</th>\n",
       "      <td>Furthermore, we present evaluations on two cor...</td>\n",
       "      <td>{}</td>\n",
       "    </tr>\n",
       "    <tr>\n",
       "      <th>...</th>\n",
       "      <td>...</td>\n",
       "      <td>...</td>\n",
       "    </tr>\n",
       "    <tr>\n",
       "      <th>173</th>\n",
       "      <td>Many thanks go to Hans Uszkoreit for his suppo...</td>\n",
       "      <td>{'title': 'Acknowledgements', 'number': '5'}</td>\n",
       "    </tr>\n",
       "    <tr>\n",
       "      <th>174</th>\n",
       "      <td>Most of the work on TnT was carried out while ...</td>\n",
       "      <td>{'title': 'Acknowledgements', 'number': '5'}</td>\n",
       "    </tr>\n",
       "    <tr>\n",
       "      <th>175</th>\n",
       "      <td>Large annotated corpora are the pre-requisite ...</td>\n",
       "      <td>{'title': 'Acknowledgements', 'number': '5'}</td>\n",
       "    </tr>\n",
       "    <tr>\n",
       "      <th>176</th>\n",
       "      <td>Therefore, I would like to thank all the peopl...</td>\n",
       "      <td>{'title': 'Acknowledgements', 'number': '5'}</td>\n",
       "    </tr>\n",
       "    <tr>\n",
       "      <th>177</th>\n",
       "      <td>And, last but not least, I would like to thank...</td>\n",
       "      <td>{'title': 'Acknowledgements', 'number': '5'}</td>\n",
       "    </tr>\n",
       "  </tbody>\n",
       "</table>\n",
       "<p>178 rows × 2 columns</p>\n",
       "</div>"
      ],
      "text/plain": [
       "                                                  col1  \\\n",
       "0    Trigrams'n'Tags (TnT) is an efficient statisti...   \n",
       "1    Contrary to claims found elsewhere in the lite...   \n",
       "2    A recent comparison has even shown that TnT pe...   \n",
       "3    We describe the basic model of TnT, the techni...   \n",
       "4    Furthermore, we present evaluations on two cor...   \n",
       "..                                                 ...   \n",
       "173  Many thanks go to Hans Uszkoreit for his suppo...   \n",
       "174  Most of the work on TnT was carried out while ...   \n",
       "175  Large annotated corpora are the pre-requisite ...   \n",
       "176  Therefore, I would like to thank all the peopl...   \n",
       "177  And, last but not least, I would like to thank...   \n",
       "\n",
       "                                             col2  \n",
       "0                                              {}  \n",
       "1                                              {}  \n",
       "2                                              {}  \n",
       "3                                              {}  \n",
       "4                                              {}  \n",
       "..                                            ...  \n",
       "173  {'title': 'Acknowledgements', 'number': '5'}  \n",
       "174  {'title': 'Acknowledgements', 'number': '5'}  \n",
       "175  {'title': 'Acknowledgements', 'number': '5'}  \n",
       "176  {'title': 'Acknowledgements', 'number': '5'}  \n",
       "177  {'title': 'Acknowledgements', 'number': '5'}  \n",
       "\n",
       "[178 rows x 2 columns]"
      ]
     },
     "execution_count": 30,
     "metadata": {},
     "output_type": "execute_result"
    }
   ],
   "source": [
    "df"
   ]
  },
  {
   "cell_type": "code",
   "execution_count": 53,
   "metadata": {},
   "outputs": [
    {
     "name": "stdout",
     "output_type": "stream",
     "text": [
      "{'sid': '0'}\n",
      "{}\n",
      "{'title': '1 Introduction', 'number': '1'}\n",
      "{'title': '2 Architecture', 'number': '2'}\n",
      "{'title': '3 Evaluation', 'number': '3'}\n",
      "{'title': '4 Conclusion', 'number': '4'}\n",
      "{'title': 'Acknowledgements', 'number': '5'}\n"
     ]
    }
   ],
   "source": [
    "for a in root:\n",
    "    print(a.attrib)"
   ]
  },
  {
   "cell_type": "code",
   "execution_count": 35,
   "metadata": {},
   "outputs": [],
   "source": [
    "df.to_csv('hello.csv',index=False)"
   ]
  },
  {
   "cell_type": "code",
   "execution_count": null,
   "metadata": {},
   "outputs": [],
   "source": [
    "for key, value in student_score.items():\n",
    "    print(key, ' : ', value)"
   ]
  }
 ],
 "metadata": {
  "kernelspec": {
   "display_name": "Python 3",
   "language": "python",
   "name": "python3"
  },
  "language_info": {
   "codemirror_mode": {
    "name": "ipython",
    "version": 3
   },
   "file_extension": ".py",
   "mimetype": "text/x-python",
   "name": "python",
   "nbconvert_exporter": "python",
   "pygments_lexer": "ipython3",
   "version": "3.6.9"
  }
 },
 "nbformat": 4,
 "nbformat_minor": 4
}
