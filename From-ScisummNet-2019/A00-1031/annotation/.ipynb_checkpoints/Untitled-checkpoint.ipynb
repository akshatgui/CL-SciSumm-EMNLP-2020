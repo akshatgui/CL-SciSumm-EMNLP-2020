{
 "cells": [
  {
   "cell_type": "code",
   "execution_count": 88,
   "metadata": {},
   "outputs": [],
   "source": [
    "def clean(line):\n",
    "    line = line.split(\"|\")\n",
    "    cit_2 , ref_2 = line[6].split(\":\")[1].strip() , line[8].split(\":\")[1].strip()\n",
    "    cit_2 = cit_2.split(\" >\")[1].split(\"</S>\")[0]\n",
    "    ref_2 = ref_2.split(\" >\")[1:]\n",
    "    ref_2 = [ i.split(\"</S>\")[0] for i in ref_2]\n",
    "    ans=\"\"\n",
    "    for i in ref_2:\n",
    "        ans=ans + cit_2 + \" $$$$$ \" + i +\"\\n\"\n",
    "   # ref_2 = \" \".join(ref_2)\n",
    "    \n",
    "    return ans"
   ]
  },
  {
   "cell_type": "code",
   "execution_count": 89,
   "metadata": {},
   "outputs": [],
   "source": [
    "with open('A00-1031.ann.txt') as f:\n",
    "    data = f.read()\n",
    "data = [ clean(i) for i in data.split(\"\\n\") if i ]\n",
    "\n",
    "with open(\"cleaned.txt\",\"w+\") as f:\n",
    "    f.write(\"\\n\".join(data))"
   ]
  },
  {
   "cell_type": "code",
   "execution_count": null,
   "metadata": {},
   "outputs": [],
   "source": []
  }
 ],
 "metadata": {
  "kernelspec": {
   "display_name": "Python 3",
   "language": "python",
   "name": "python3"
  },
  "language_info": {
   "codemirror_mode": {
    "name": "ipython",
    "version": 3
   },
   "file_extension": ".py",
   "mimetype": "text/x-python",
   "name": "python",
   "nbconvert_exporter": "python",
   "pygments_lexer": "ipython3",
   "version": "3.6.9"
  }
 },
 "nbformat": 4,
 "nbformat_minor": 4
}
