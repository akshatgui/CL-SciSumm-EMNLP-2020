{
 "cells": [
  {
   "cell_type": "code",
   "execution_count": 20,
   "metadata": {},
   "outputs": [],
   "source": [
    "def clean(line,root):\n",
    "    line = line.split(\"|\")\n",
    "    cit_2 , ref_2 = line[6].split(\":\")[1].strip() , line[8].split(\":\")[1].strip()\n",
    "    cit_2 = cit_2.split(\" >\")[1].split(\"</S>\")[0]\n",
    "    ref_2 = ref_2.split(\" >\")[1:]\n",
    "    ref_2 = [ i.split(\"</S>\")[0] for i in ref_2]\n",
    "    ans=\"\"\n",
    "    count=0\n",
    "    while count<4:\n",
    "        attrib=len(root)\n",
    "        rand0=random.randint(0,attrib-1)\n",
    "        lent=len(root[rand0])\n",
    "        if lent>1:\n",
    "            rand1=random.randint(0,lent-1)\n",
    "        \n",
    "            ans=ans + cit_2 + \" $$$$$ \" + root[rand0][rand1].text  +\"\\n\"\n",
    "        count=count+1\n",
    "   # ref_2 = \" \".join(ref_2)\n",
    "    \n",
    "    return ans"
   ]
  },
  {
   "cell_type": "code",
   "execution_count": 21,
   "metadata": {},
   "outputs": [],
   "source": [
    "import xml.etree.ElementTree as ET\n",
    "import random\n",
    "import os"
   ]
  },
  {
   "cell_type": "code",
   "execution_count": 22,
   "metadata": {},
   "outputs": [
    {
     "name": "stdout",
     "output_type": "stream",
     "text": [
      "./From-ScisummNet-2019/P96-1041/annotation/P96-1041.ann.txt\n",
      "./From-ScisummNet-2019/P89-1010/annotation/P89-1010.ann.txt\n",
      "./From-ScisummNet-2019/W06-1607/annotation/W06-1607.ann.txt\n",
      "./From-ScisummNet-2019/J00-2004/annotation/J00-2004.ann.txt\n",
      "./From-ScisummNet-2019/P07-1019/annotation/P07-1019.ann.txt\n",
      "./From-ScisummNet-2019/P06-1084/annotation/P06-1084.ann.txt\n",
      "./From-ScisummNet-2019/N09-1012/annotation/N09-1012.ann.txt\n",
      "./From-ScisummNet-2019/W04-3250/annotation/W04-3250.ann.txt\n",
      "./From-ScisummNet-2019/J04-4002/annotation/J04-4002.ann.txt\n",
      "./From-ScisummNet-2019/J07-2003/annotation/J07-2003.ann.txt\n",
      "./From-ScisummNet-2019/P09-1088/annotation/P09-1088.ann.txt\n",
      "./From-ScisummNet-2019/W95-0115/annotation/W95-0115.ann.txt\n",
      "./From-ScisummNet-2019/W97-0703/annotation/W97-0703.ann.txt\n",
      "./From-ScisummNet-2019/P05-1074/annotation/P05-1074.ann.txt\n",
      "./From-ScisummNet-2019/P96-1021/annotation/P96-1021.ann.txt\n",
      "./From-ScisummNet-2019/P97-1009/annotation/P97-1009.ann.txt\n",
      "./From-ScisummNet-2019/N03-1021/annotation/N03-1021.ann.txt\n",
      "./From-ScisummNet-2019/D08-1082/annotation/D08-1082.ann.txt\n",
      "./From-ScisummNet-2019/W06-3812/annotation/W06-3812.ann.txt\n",
      "./From-ScisummNet-2019/J93-2003/annotation/J93-2003.ann.txt\n",
      "./From-ScisummNet-2019/P06-1077/annotation/P06-1077.ann.txt\n",
      "./From-ScisummNet-2019/C04-1111/annotation/C04-1111.ann.txt\n",
      "./From-ScisummNet-2019/P10-1044/annotation/P10-1044.ann.txt\n",
      "./From-ScisummNet-2019/C02-1054/annotation/C02-1054.ann.txt\n",
      "./From-ScisummNet-2019/D08-1089/annotation/D08-1089.ann.txt\n",
      "./From-ScisummNet-2019/H05-1012/annotation/H05-1012.ann.txt\n"
     ]
    }
   ],
   "source": [
    "for k in os.listdir(\"./From-ScisummNet-2019\"):\n",
    "    with open(\"./From-ScisummNet-2019/\"+k+\"/annotation/\"+k+\".ann.txt\") as f:\n",
    "        data = f.read()\n",
    "    tree = ET.parse(\"./From-ScisummNet-2019/\"+k+\"/Reference_XML/\"+k+\".xml\")\n",
    "    root = tree.getroot()\n",
    "\n",
    "    try:\n",
    "        data = [ clean(i,root) for i in data.split(\"\\n\") if i ]\n",
    "        #print(\"./From-ScisummNet-2019/\"+k+\"/annotation/\"+k+\".ann.txt\")\n",
    "\n",
    "        with open(\"./Neg/\"+k+\"-neg.txt\",\"w+\") as f:\n",
    "            f.write(\"\\n\".join(data))\n",
    "    except:\n",
    "        \n",
    "        print(\"./From-ScisummNet-2019/\"+k+\"/annotation/\"+k+\".ann.txt\")\n",
    "        continue"
   ]
  },
  {
   "cell_type": "code",
   "execution_count": null,
   "metadata": {},
   "outputs": [],
   "source": []
  }
 ],
 "metadata": {
  "kernelspec": {
   "display_name": "Python 3",
   "language": "python",
   "name": "python3"
  },
  "language_info": {
   "codemirror_mode": {
    "name": "ipython",
    "version": 3
   },
   "file_extension": ".py",
   "mimetype": "text/x-python",
   "name": "python",
   "nbconvert_exporter": "python",
   "pygments_lexer": "ipython3",
   "version": "3.6.9"
  }
 },
 "nbformat": 4,
 "nbformat_minor": 4
}
