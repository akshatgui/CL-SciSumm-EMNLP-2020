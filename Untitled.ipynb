{
 "cells": [
  {
   "cell_type": "code",
   "execution_count": 2,
   "metadata": {},
   "outputs": [],
   "source": [
    "import os\n",
    "import xml.etree.ElementTree as ET\n",
    "import pandas as pd\n"
   ]
  },
  {
   "cell_type": "code",
   "execution_count": 17,
   "metadata": {},
   "outputs": [
    {
     "name": "stdout",
     "output_type": "stream",
     "text": [
      "./task2/C02-1145.csv\n",
      "./task2/C04-1180.csv\n",
      "./task2/C92-2066.csv\n",
      "./task2/E87-1002.csv\n",
      "./task2/H05-1004.csv\n",
      "./task2/L08-1093.csv\n",
      "./task2/N04-1015.csv\n",
      "./task2/P84-1085.csv\n"
     ]
    }
   ],
   "source": [
    "for k in os.listdir(\"./From-ScisummNet-2019\"):\n",
    "    try:\n",
    "        tree = ET.parse(\"./From-ScisummNet-2019/\"+k+\"/Reference_XML/\"+k+\".xml\")\n",
    "        root = tree.getroot()\n",
    "        final1=[]\n",
    "        final2=[]\n",
    "        i = 0\n",
    "        total = len(root)\n",
    "       # print(total)\n",
    "        for a in root:\n",
    "          #  print(a.attrib)\n",
    "           # print(i)\n",
    "            for b in a:\n",
    "                \n",
    "                final1.append(b.text)\n",
    "                if i == 0:\n",
    "                    final2.append(\"Abstract\")\n",
    "                if i == 1:\n",
    "                    final2.append(\"Introduction\")\n",
    "                elif i < total-2:\n",
    "                    final2.append(\"Experiment/Discussion\")\n",
    "                if i == total-2 or i == total-1:\n",
    "                    final2.append(\"Results/Conclusion\")\n",
    "                if i == total:\n",
    "                    final2.append(\"Acknowledgment\")\n",
    "            i = i+1\n",
    "                \n",
    "                \n",
    "        d={'col1':final1,'col2':final2}\n",
    "        df = pd.DataFrame(data=d)\n",
    "       # print(df)\n",
    "        df.to_csv(\"./task2/\"+k+\".csv\",index=False)\n",
    "       # print(\"./task2/\"+k+\".csv\")\n",
    "    except:\n",
    "        print(\"./task2/\"+k+\".csv\")\n",
    "        continue"
   ]
  },
  {
   "cell_type": "code",
   "execution_count": null,
   "metadata": {},
   "outputs": [],
   "source": []
  }
 ],
 "metadata": {
  "kernelspec": {
   "display_name": "Python 3",
   "language": "python",
   "name": "python3"
  },
  "language_info": {
   "codemirror_mode": {
    "name": "ipython",
    "version": 3
   },
   "file_extension": ".py",
   "mimetype": "text/x-python",
   "name": "python",
   "nbconvert_exporter": "python",
   "pygments_lexer": "ipython3",
   "version": "3.8.5"
  }
 },
 "nbformat": 4,
 "nbformat_minor": 4
}
