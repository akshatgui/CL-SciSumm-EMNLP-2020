{
  "nbformat": 4,
  "nbformat_minor": 0,
  "metadata": {
    "colab": {
      "name": "1A++",
      "provenance": [],
      "collapsed_sections": []
    },
    "kernelspec": {
      "name": "python3",
      "display_name": "Python 3"
    },
    "widgets": {
      "application/vnd.jupyter.widget-state+json": {
        "3bf66977d0904f7295f71a0dc8b135ff": {
          "model_module": "@jupyter-widgets/controls",
          "model_name": "HBoxModel",
          "state": {
            "_view_name": "HBoxView",
            "_dom_classes": [],
            "_model_name": "HBoxModel",
            "_view_module": "@jupyter-widgets/controls",
            "_model_module_version": "1.5.0",
            "_view_count": null,
            "_view_module_version": "1.5.0",
            "box_style": "",
            "layout": "IPY_MODEL_5c2c3b3db05846799fb1dde22af2e762",
            "_model_module": "@jupyter-widgets/controls",
            "children": [
              "IPY_MODEL_f63f5375a9f64d6382e85bae429034c5",
              "IPY_MODEL_7e6a8d2193644481839bff2a76c0e384"
            ]
          }
        },
        "5c2c3b3db05846799fb1dde22af2e762": {
          "model_module": "@jupyter-widgets/base",
          "model_name": "LayoutModel",
          "state": {
            "_view_name": "LayoutView",
            "grid_template_rows": null,
            "right": null,
            "justify_content": null,
            "_view_module": "@jupyter-widgets/base",
            "overflow": null,
            "_model_module_version": "1.2.0",
            "_view_count": null,
            "flex_flow": null,
            "width": null,
            "min_width": null,
            "border": null,
            "align_items": null,
            "bottom": null,
            "_model_module": "@jupyter-widgets/base",
            "top": null,
            "grid_column": null,
            "overflow_y": null,
            "overflow_x": null,
            "grid_auto_flow": null,
            "grid_area": null,
            "grid_template_columns": null,
            "flex": null,
            "_model_name": "LayoutModel",
            "justify_items": null,
            "grid_row": null,
            "max_height": null,
            "align_content": null,
            "visibility": null,
            "align_self": null,
            "height": null,
            "min_height": null,
            "padding": null,
            "grid_auto_rows": null,
            "grid_gap": null,
            "max_width": null,
            "order": null,
            "_view_module_version": "1.2.0",
            "grid_template_areas": null,
            "object_position": null,
            "object_fit": null,
            "grid_auto_columns": null,
            "margin": null,
            "display": null,
            "left": null
          }
        },
        "f63f5375a9f64d6382e85bae429034c5": {
          "model_module": "@jupyter-widgets/controls",
          "model_name": "FloatProgressModel",
          "state": {
            "_view_name": "ProgressView",
            "style": "IPY_MODEL_48e151a845534b799632ddb30255063b",
            "_dom_classes": [],
            "description": "Downloading: 100%",
            "_model_name": "FloatProgressModel",
            "bar_style": "success",
            "max": 481,
            "_view_module": "@jupyter-widgets/controls",
            "_model_module_version": "1.5.0",
            "value": 481,
            "_view_count": null,
            "_view_module_version": "1.5.0",
            "orientation": "horizontal",
            "min": 0,
            "description_tooltip": null,
            "_model_module": "@jupyter-widgets/controls",
            "layout": "IPY_MODEL_19910c14005c499e8b1f476ad3aefc97"
          }
        },
        "7e6a8d2193644481839bff2a76c0e384": {
          "model_module": "@jupyter-widgets/controls",
          "model_name": "HTMLModel",
          "state": {
            "_view_name": "HTMLView",
            "style": "IPY_MODEL_c05a55496fd64318a395d080ec77080e",
            "_dom_classes": [],
            "description": "",
            "_model_name": "HTMLModel",
            "placeholder": "​",
            "_view_module": "@jupyter-widgets/controls",
            "_model_module_version": "1.5.0",
            "value": " 481/481 [00:00&lt;00:00, 747B/s]",
            "_view_count": null,
            "_view_module_version": "1.5.0",
            "description_tooltip": null,
            "_model_module": "@jupyter-widgets/controls",
            "layout": "IPY_MODEL_19f410553fa44b07940a074d088068cb"
          }
        },
        "48e151a845534b799632ddb30255063b": {
          "model_module": "@jupyter-widgets/controls",
          "model_name": "ProgressStyleModel",
          "state": {
            "_view_name": "StyleView",
            "_model_name": "ProgressStyleModel",
            "description_width": "initial",
            "_view_module": "@jupyter-widgets/base",
            "_model_module_version": "1.5.0",
            "_view_count": null,
            "_view_module_version": "1.2.0",
            "bar_color": null,
            "_model_module": "@jupyter-widgets/controls"
          }
        },
        "19910c14005c499e8b1f476ad3aefc97": {
          "model_module": "@jupyter-widgets/base",
          "model_name": "LayoutModel",
          "state": {
            "_view_name": "LayoutView",
            "grid_template_rows": null,
            "right": null,
            "justify_content": null,
            "_view_module": "@jupyter-widgets/base",
            "overflow": null,
            "_model_module_version": "1.2.0",
            "_view_count": null,
            "flex_flow": null,
            "width": null,
            "min_width": null,
            "border": null,
            "align_items": null,
            "bottom": null,
            "_model_module": "@jupyter-widgets/base",
            "top": null,
            "grid_column": null,
            "overflow_y": null,
            "overflow_x": null,
            "grid_auto_flow": null,
            "grid_area": null,
            "grid_template_columns": null,
            "flex": null,
            "_model_name": "LayoutModel",
            "justify_items": null,
            "grid_row": null,
            "max_height": null,
            "align_content": null,
            "visibility": null,
            "align_self": null,
            "height": null,
            "min_height": null,
            "padding": null,
            "grid_auto_rows": null,
            "grid_gap": null,
            "max_width": null,
            "order": null,
            "_view_module_version": "1.2.0",
            "grid_template_areas": null,
            "object_position": null,
            "object_fit": null,
            "grid_auto_columns": null,
            "margin": null,
            "display": null,
            "left": null
          }
        },
        "c05a55496fd64318a395d080ec77080e": {
          "model_module": "@jupyter-widgets/controls",
          "model_name": "DescriptionStyleModel",
          "state": {
            "_view_name": "StyleView",
            "_model_name": "DescriptionStyleModel",
            "description_width": "",
            "_view_module": "@jupyter-widgets/base",
            "_model_module_version": "1.5.0",
            "_view_count": null,
            "_view_module_version": "1.2.0",
            "_model_module": "@jupyter-widgets/controls"
          }
        },
        "19f410553fa44b07940a074d088068cb": {
          "model_module": "@jupyter-widgets/base",
          "model_name": "LayoutModel",
          "state": {
            "_view_name": "LayoutView",
            "grid_template_rows": null,
            "right": null,
            "justify_content": null,
            "_view_module": "@jupyter-widgets/base",
            "overflow": null,
            "_model_module_version": "1.2.0",
            "_view_count": null,
            "flex_flow": null,
            "width": null,
            "min_width": null,
            "border": null,
            "align_items": null,
            "bottom": null,
            "_model_module": "@jupyter-widgets/base",
            "top": null,
            "grid_column": null,
            "overflow_y": null,
            "overflow_x": null,
            "grid_auto_flow": null,
            "grid_area": null,
            "grid_template_columns": null,
            "flex": null,
            "_model_name": "LayoutModel",
            "justify_items": null,
            "grid_row": null,
            "max_height": null,
            "align_content": null,
            "visibility": null,
            "align_self": null,
            "height": null,
            "min_height": null,
            "padding": null,
            "grid_auto_rows": null,
            "grid_gap": null,
            "max_width": null,
            "order": null,
            "_view_module_version": "1.2.0",
            "grid_template_areas": null,
            "object_position": null,
            "object_fit": null,
            "grid_auto_columns": null,
            "margin": null,
            "display": null,
            "left": null
          }
        },
        "2af6cf1697594767b9a63cde4682fe9b": {
          "model_module": "@jupyter-widgets/controls",
          "model_name": "HBoxModel",
          "state": {
            "_view_name": "HBoxView",
            "_dom_classes": [],
            "_model_name": "HBoxModel",
            "_view_module": "@jupyter-widgets/controls",
            "_model_module_version": "1.5.0",
            "_view_count": null,
            "_view_module_version": "1.5.0",
            "box_style": "",
            "layout": "IPY_MODEL_5bd3888bd3ef42e2a6fbf1d7ccb3d04c",
            "_model_module": "@jupyter-widgets/controls",
            "children": [
              "IPY_MODEL_0a0b881bd33c480bb6b945c453607fc5",
              "IPY_MODEL_a111ac2b90654e3f8ce60d28e4d3ed8e"
            ]
          }
        },
        "5bd3888bd3ef42e2a6fbf1d7ccb3d04c": {
          "model_module": "@jupyter-widgets/base",
          "model_name": "LayoutModel",
          "state": {
            "_view_name": "LayoutView",
            "grid_template_rows": null,
            "right": null,
            "justify_content": null,
            "_view_module": "@jupyter-widgets/base",
            "overflow": null,
            "_model_module_version": "1.2.0",
            "_view_count": null,
            "flex_flow": null,
            "width": null,
            "min_width": null,
            "border": null,
            "align_items": null,
            "bottom": null,
            "_model_module": "@jupyter-widgets/base",
            "top": null,
            "grid_column": null,
            "overflow_y": null,
            "overflow_x": null,
            "grid_auto_flow": null,
            "grid_area": null,
            "grid_template_columns": null,
            "flex": null,
            "_model_name": "LayoutModel",
            "justify_items": null,
            "grid_row": null,
            "max_height": null,
            "align_content": null,
            "visibility": null,
            "align_self": null,
            "height": null,
            "min_height": null,
            "padding": null,
            "grid_auto_rows": null,
            "grid_gap": null,
            "max_width": null,
            "order": null,
            "_view_module_version": "1.2.0",
            "grid_template_areas": null,
            "object_position": null,
            "object_fit": null,
            "grid_auto_columns": null,
            "margin": null,
            "display": null,
            "left": null
          }
        },
        "0a0b881bd33c480bb6b945c453607fc5": {
          "model_module": "@jupyter-widgets/controls",
          "model_name": "FloatProgressModel",
          "state": {
            "_view_name": "ProgressView",
            "style": "IPY_MODEL_7412b2c2c4454071b6f7ff940b7cb4aa",
            "_dom_classes": [],
            "description": "Downloading: 100%",
            "_model_name": "FloatProgressModel",
            "bar_style": "success",
            "max": 898823,
            "_view_module": "@jupyter-widgets/controls",
            "_model_module_version": "1.5.0",
            "value": 898823,
            "_view_count": null,
            "_view_module_version": "1.5.0",
            "orientation": "horizontal",
            "min": 0,
            "description_tooltip": null,
            "_model_module": "@jupyter-widgets/controls",
            "layout": "IPY_MODEL_f600b9e59f2042d0a9df8b9e20b54ffe"
          }
        },
        "a111ac2b90654e3f8ce60d28e4d3ed8e": {
          "model_module": "@jupyter-widgets/controls",
          "model_name": "HTMLModel",
          "state": {
            "_view_name": "HTMLView",
            "style": "IPY_MODEL_81b87fee6be04fa3900235b6342ef159",
            "_dom_classes": [],
            "description": "",
            "_model_name": "HTMLModel",
            "placeholder": "​",
            "_view_module": "@jupyter-widgets/controls",
            "_model_module_version": "1.5.0",
            "value": " 899k/899k [00:00&lt;00:00, 1.75MB/s]",
            "_view_count": null,
            "_view_module_version": "1.5.0",
            "description_tooltip": null,
            "_model_module": "@jupyter-widgets/controls",
            "layout": "IPY_MODEL_623f3b141b9e442fba12ba7379daff0a"
          }
        },
        "7412b2c2c4454071b6f7ff940b7cb4aa": {
          "model_module": "@jupyter-widgets/controls",
          "model_name": "ProgressStyleModel",
          "state": {
            "_view_name": "StyleView",
            "_model_name": "ProgressStyleModel",
            "description_width": "initial",
            "_view_module": "@jupyter-widgets/base",
            "_model_module_version": "1.5.0",
            "_view_count": null,
            "_view_module_version": "1.2.0",
            "bar_color": null,
            "_model_module": "@jupyter-widgets/controls"
          }
        },
        "f600b9e59f2042d0a9df8b9e20b54ffe": {
          "model_module": "@jupyter-widgets/base",
          "model_name": "LayoutModel",
          "state": {
            "_view_name": "LayoutView",
            "grid_template_rows": null,
            "right": null,
            "justify_content": null,
            "_view_module": "@jupyter-widgets/base",
            "overflow": null,
            "_model_module_version": "1.2.0",
            "_view_count": null,
            "flex_flow": null,
            "width": null,
            "min_width": null,
            "border": null,
            "align_items": null,
            "bottom": null,
            "_model_module": "@jupyter-widgets/base",
            "top": null,
            "grid_column": null,
            "overflow_y": null,
            "overflow_x": null,
            "grid_auto_flow": null,
            "grid_area": null,
            "grid_template_columns": null,
            "flex": null,
            "_model_name": "LayoutModel",
            "justify_items": null,
            "grid_row": null,
            "max_height": null,
            "align_content": null,
            "visibility": null,
            "align_self": null,
            "height": null,
            "min_height": null,
            "padding": null,
            "grid_auto_rows": null,
            "grid_gap": null,
            "max_width": null,
            "order": null,
            "_view_module_version": "1.2.0",
            "grid_template_areas": null,
            "object_position": null,
            "object_fit": null,
            "grid_auto_columns": null,
            "margin": null,
            "display": null,
            "left": null
          }
        },
        "81b87fee6be04fa3900235b6342ef159": {
          "model_module": "@jupyter-widgets/controls",
          "model_name": "DescriptionStyleModel",
          "state": {
            "_view_name": "StyleView",
            "_model_name": "DescriptionStyleModel",
            "description_width": "",
            "_view_module": "@jupyter-widgets/base",
            "_model_module_version": "1.5.0",
            "_view_count": null,
            "_view_module_version": "1.2.0",
            "_model_module": "@jupyter-widgets/controls"
          }
        },
        "623f3b141b9e442fba12ba7379daff0a": {
          "model_module": "@jupyter-widgets/base",
          "model_name": "LayoutModel",
          "state": {
            "_view_name": "LayoutView",
            "grid_template_rows": null,
            "right": null,
            "justify_content": null,
            "_view_module": "@jupyter-widgets/base",
            "overflow": null,
            "_model_module_version": "1.2.0",
            "_view_count": null,
            "flex_flow": null,
            "width": null,
            "min_width": null,
            "border": null,
            "align_items": null,
            "bottom": null,
            "_model_module": "@jupyter-widgets/base",
            "top": null,
            "grid_column": null,
            "overflow_y": null,
            "overflow_x": null,
            "grid_auto_flow": null,
            "grid_area": null,
            "grid_template_columns": null,
            "flex": null,
            "_model_name": "LayoutModel",
            "justify_items": null,
            "grid_row": null,
            "max_height": null,
            "align_content": null,
            "visibility": null,
            "align_self": null,
            "height": null,
            "min_height": null,
            "padding": null,
            "grid_auto_rows": null,
            "grid_gap": null,
            "max_width": null,
            "order": null,
            "_view_module_version": "1.2.0",
            "grid_template_areas": null,
            "object_position": null,
            "object_fit": null,
            "grid_auto_columns": null,
            "margin": null,
            "display": null,
            "left": null
          }
        },
        "b6e829b6d7ca4a04967c44292d609b37": {
          "model_module": "@jupyter-widgets/controls",
          "model_name": "HBoxModel",
          "state": {
            "_view_name": "HBoxView",
            "_dom_classes": [],
            "_model_name": "HBoxModel",
            "_view_module": "@jupyter-widgets/controls",
            "_model_module_version": "1.5.0",
            "_view_count": null,
            "_view_module_version": "1.5.0",
            "box_style": "",
            "layout": "IPY_MODEL_ceb523de85d744c7a2ea2be050ff0de7",
            "_model_module": "@jupyter-widgets/controls",
            "children": [
              "IPY_MODEL_4d89223e9d3c4886838a540bdbbbc3c4",
              "IPY_MODEL_c6c41f7acae94a52a0fe5ea0cef0d57a"
            ]
          }
        },
        "ceb523de85d744c7a2ea2be050ff0de7": {
          "model_module": "@jupyter-widgets/base",
          "model_name": "LayoutModel",
          "state": {
            "_view_name": "LayoutView",
            "grid_template_rows": null,
            "right": null,
            "justify_content": null,
            "_view_module": "@jupyter-widgets/base",
            "overflow": null,
            "_model_module_version": "1.2.0",
            "_view_count": null,
            "flex_flow": null,
            "width": null,
            "min_width": null,
            "border": null,
            "align_items": null,
            "bottom": null,
            "_model_module": "@jupyter-widgets/base",
            "top": null,
            "grid_column": null,
            "overflow_y": null,
            "overflow_x": null,
            "grid_auto_flow": null,
            "grid_area": null,
            "grid_template_columns": null,
            "flex": null,
            "_model_name": "LayoutModel",
            "justify_items": null,
            "grid_row": null,
            "max_height": null,
            "align_content": null,
            "visibility": null,
            "align_self": null,
            "height": null,
            "min_height": null,
            "padding": null,
            "grid_auto_rows": null,
            "grid_gap": null,
            "max_width": null,
            "order": null,
            "_view_module_version": "1.2.0",
            "grid_template_areas": null,
            "object_position": null,
            "object_fit": null,
            "grid_auto_columns": null,
            "margin": null,
            "display": null,
            "left": null
          }
        },
        "4d89223e9d3c4886838a540bdbbbc3c4": {
          "model_module": "@jupyter-widgets/controls",
          "model_name": "FloatProgressModel",
          "state": {
            "_view_name": "ProgressView",
            "style": "IPY_MODEL_b0261662799248c0844cd60a88eb1c34",
            "_dom_classes": [],
            "description": "Downloading: 100%",
            "_model_name": "FloatProgressModel",
            "bar_style": "success",
            "max": 456318,
            "_view_module": "@jupyter-widgets/controls",
            "_model_module_version": "1.5.0",
            "value": 456318,
            "_view_count": null,
            "_view_module_version": "1.5.0",
            "orientation": "horizontal",
            "min": 0,
            "description_tooltip": null,
            "_model_module": "@jupyter-widgets/controls",
            "layout": "IPY_MODEL_d9a8949a254a4a04bec2ecc6aec64797"
          }
        },
        "c6c41f7acae94a52a0fe5ea0cef0d57a": {
          "model_module": "@jupyter-widgets/controls",
          "model_name": "HTMLModel",
          "state": {
            "_view_name": "HTMLView",
            "style": "IPY_MODEL_57590c5329f0428d862c61afb57a6de7",
            "_dom_classes": [],
            "description": "",
            "_model_name": "HTMLModel",
            "placeholder": "​",
            "_view_module": "@jupyter-widgets/controls",
            "_model_module_version": "1.5.0",
            "value": " 456k/456k [00:00&lt;00:00, 1.38MB/s]",
            "_view_count": null,
            "_view_module_version": "1.5.0",
            "description_tooltip": null,
            "_model_module": "@jupyter-widgets/controls",
            "layout": "IPY_MODEL_6a4bc98a467f4d268cef8f734626158e"
          }
        },
        "b0261662799248c0844cd60a88eb1c34": {
          "model_module": "@jupyter-widgets/controls",
          "model_name": "ProgressStyleModel",
          "state": {
            "_view_name": "StyleView",
            "_model_name": "ProgressStyleModel",
            "description_width": "initial",
            "_view_module": "@jupyter-widgets/base",
            "_model_module_version": "1.5.0",
            "_view_count": null,
            "_view_module_version": "1.2.0",
            "bar_color": null,
            "_model_module": "@jupyter-widgets/controls"
          }
        },
        "d9a8949a254a4a04bec2ecc6aec64797": {
          "model_module": "@jupyter-widgets/base",
          "model_name": "LayoutModel",
          "state": {
            "_view_name": "LayoutView",
            "grid_template_rows": null,
            "right": null,
            "justify_content": null,
            "_view_module": "@jupyter-widgets/base",
            "overflow": null,
            "_model_module_version": "1.2.0",
            "_view_count": null,
            "flex_flow": null,
            "width": null,
            "min_width": null,
            "border": null,
            "align_items": null,
            "bottom": null,
            "_model_module": "@jupyter-widgets/base",
            "top": null,
            "grid_column": null,
            "overflow_y": null,
            "overflow_x": null,
            "grid_auto_flow": null,
            "grid_area": null,
            "grid_template_columns": null,
            "flex": null,
            "_model_name": "LayoutModel",
            "justify_items": null,
            "grid_row": null,
            "max_height": null,
            "align_content": null,
            "visibility": null,
            "align_self": null,
            "height": null,
            "min_height": null,
            "padding": null,
            "grid_auto_rows": null,
            "grid_gap": null,
            "max_width": null,
            "order": null,
            "_view_module_version": "1.2.0",
            "grid_template_areas": null,
            "object_position": null,
            "object_fit": null,
            "grid_auto_columns": null,
            "margin": null,
            "display": null,
            "left": null
          }
        },
        "57590c5329f0428d862c61afb57a6de7": {
          "model_module": "@jupyter-widgets/controls",
          "model_name": "DescriptionStyleModel",
          "state": {
            "_view_name": "StyleView",
            "_model_name": "DescriptionStyleModel",
            "description_width": "",
            "_view_module": "@jupyter-widgets/base",
            "_model_module_version": "1.5.0",
            "_view_count": null,
            "_view_module_version": "1.2.0",
            "_model_module": "@jupyter-widgets/controls"
          }
        },
        "6a4bc98a467f4d268cef8f734626158e": {
          "model_module": "@jupyter-widgets/base",
          "model_name": "LayoutModel",
          "state": {
            "_view_name": "LayoutView",
            "grid_template_rows": null,
            "right": null,
            "justify_content": null,
            "_view_module": "@jupyter-widgets/base",
            "overflow": null,
            "_model_module_version": "1.2.0",
            "_view_count": null,
            "flex_flow": null,
            "width": null,
            "min_width": null,
            "border": null,
            "align_items": null,
            "bottom": null,
            "_model_module": "@jupyter-widgets/base",
            "top": null,
            "grid_column": null,
            "overflow_y": null,
            "overflow_x": null,
            "grid_auto_flow": null,
            "grid_area": null,
            "grid_template_columns": null,
            "flex": null,
            "_model_name": "LayoutModel",
            "justify_items": null,
            "grid_row": null,
            "max_height": null,
            "align_content": null,
            "visibility": null,
            "align_self": null,
            "height": null,
            "min_height": null,
            "padding": null,
            "grid_auto_rows": null,
            "grid_gap": null,
            "max_width": null,
            "order": null,
            "_view_module_version": "1.2.0",
            "grid_template_areas": null,
            "object_position": null,
            "object_fit": null,
            "grid_auto_columns": null,
            "margin": null,
            "display": null,
            "left": null
          }
        },
        "abf41aa70e5c4f6daa6b21a5563c77f5": {
          "model_module": "@jupyter-widgets/controls",
          "model_name": "HBoxModel",
          "state": {
            "_view_name": "HBoxView",
            "_dom_classes": [],
            "_model_name": "HBoxModel",
            "_view_module": "@jupyter-widgets/controls",
            "_model_module_version": "1.5.0",
            "_view_count": null,
            "_view_module_version": "1.5.0",
            "box_style": "",
            "layout": "IPY_MODEL_cdb31022dce14607818c91568dc6cbd3",
            "_model_module": "@jupyter-widgets/controls",
            "children": [
              "IPY_MODEL_cecd2cbd5c7c470bb7bb31691f7a8411",
              "IPY_MODEL_cf3646d62a324ebb94aa28f4bfab5b5f"
            ]
          }
        },
        "cdb31022dce14607818c91568dc6cbd3": {
          "model_module": "@jupyter-widgets/base",
          "model_name": "LayoutModel",
          "state": {
            "_view_name": "LayoutView",
            "grid_template_rows": null,
            "right": null,
            "justify_content": null,
            "_view_module": "@jupyter-widgets/base",
            "overflow": null,
            "_model_module_version": "1.2.0",
            "_view_count": null,
            "flex_flow": null,
            "width": null,
            "min_width": null,
            "border": null,
            "align_items": null,
            "bottom": null,
            "_model_module": "@jupyter-widgets/base",
            "top": null,
            "grid_column": null,
            "overflow_y": null,
            "overflow_x": null,
            "grid_auto_flow": null,
            "grid_area": null,
            "grid_template_columns": null,
            "flex": null,
            "_model_name": "LayoutModel",
            "justify_items": null,
            "grid_row": null,
            "max_height": null,
            "align_content": null,
            "visibility": null,
            "align_self": null,
            "height": null,
            "min_height": null,
            "padding": null,
            "grid_auto_rows": null,
            "grid_gap": null,
            "max_width": null,
            "order": null,
            "_view_module_version": "1.2.0",
            "grid_template_areas": null,
            "object_position": null,
            "object_fit": null,
            "grid_auto_columns": null,
            "margin": null,
            "display": null,
            "left": null
          }
        },
        "cecd2cbd5c7c470bb7bb31691f7a8411": {
          "model_module": "@jupyter-widgets/controls",
          "model_name": "FloatProgressModel",
          "state": {
            "_view_name": "ProgressView",
            "style": "IPY_MODEL_f2f5421bf79740fcbd656cb7a72fbe23",
            "_dom_classes": [],
            "description": "Downloading: 100%",
            "_model_name": "FloatProgressModel",
            "bar_style": "success",
            "max": 1355863,
            "_view_module": "@jupyter-widgets/controls",
            "_model_module_version": "1.5.0",
            "value": 1355863,
            "_view_count": null,
            "_view_module_version": "1.5.0",
            "orientation": "horizontal",
            "min": 0,
            "description_tooltip": null,
            "_model_module": "@jupyter-widgets/controls",
            "layout": "IPY_MODEL_04f99e9c38304b5ba08c98657398b362"
          }
        },
        "cf3646d62a324ebb94aa28f4bfab5b5f": {
          "model_module": "@jupyter-widgets/controls",
          "model_name": "HTMLModel",
          "state": {
            "_view_name": "HTMLView",
            "style": "IPY_MODEL_6daa83965612485c8036a1b5d8db0a18",
            "_dom_classes": [],
            "description": "",
            "_model_name": "HTMLModel",
            "placeholder": "​",
            "_view_module": "@jupyter-widgets/controls",
            "_model_module_version": "1.5.0",
            "value": " 1.36M/1.36M [00:00&lt;00:00, 6.56MB/s]",
            "_view_count": null,
            "_view_module_version": "1.5.0",
            "description_tooltip": null,
            "_model_module": "@jupyter-widgets/controls",
            "layout": "IPY_MODEL_27f86b3159564613904b18b22fc5aab6"
          }
        },
        "f2f5421bf79740fcbd656cb7a72fbe23": {
          "model_module": "@jupyter-widgets/controls",
          "model_name": "ProgressStyleModel",
          "state": {
            "_view_name": "StyleView",
            "_model_name": "ProgressStyleModel",
            "description_width": "initial",
            "_view_module": "@jupyter-widgets/base",
            "_model_module_version": "1.5.0",
            "_view_count": null,
            "_view_module_version": "1.2.0",
            "bar_color": null,
            "_model_module": "@jupyter-widgets/controls"
          }
        },
        "04f99e9c38304b5ba08c98657398b362": {
          "model_module": "@jupyter-widgets/base",
          "model_name": "LayoutModel",
          "state": {
            "_view_name": "LayoutView",
            "grid_template_rows": null,
            "right": null,
            "justify_content": null,
            "_view_module": "@jupyter-widgets/base",
            "overflow": null,
            "_model_module_version": "1.2.0",
            "_view_count": null,
            "flex_flow": null,
            "width": null,
            "min_width": null,
            "border": null,
            "align_items": null,
            "bottom": null,
            "_model_module": "@jupyter-widgets/base",
            "top": null,
            "grid_column": null,
            "overflow_y": null,
            "overflow_x": null,
            "grid_auto_flow": null,
            "grid_area": null,
            "grid_template_columns": null,
            "flex": null,
            "_model_name": "LayoutModel",
            "justify_items": null,
            "grid_row": null,
            "max_height": null,
            "align_content": null,
            "visibility": null,
            "align_self": null,
            "height": null,
            "min_height": null,
            "padding": null,
            "grid_auto_rows": null,
            "grid_gap": null,
            "max_width": null,
            "order": null,
            "_view_module_version": "1.2.0",
            "grid_template_areas": null,
            "object_position": null,
            "object_fit": null,
            "grid_auto_columns": null,
            "margin": null,
            "display": null,
            "left": null
          }
        },
        "6daa83965612485c8036a1b5d8db0a18": {
          "model_module": "@jupyter-widgets/controls",
          "model_name": "DescriptionStyleModel",
          "state": {
            "_view_name": "StyleView",
            "_model_name": "DescriptionStyleModel",
            "description_width": "",
            "_view_module": "@jupyter-widgets/base",
            "_model_module_version": "1.5.0",
            "_view_count": null,
            "_view_module_version": "1.2.0",
            "_model_module": "@jupyter-widgets/controls"
          }
        },
        "27f86b3159564613904b18b22fc5aab6": {
          "model_module": "@jupyter-widgets/base",
          "model_name": "LayoutModel",
          "state": {
            "_view_name": "LayoutView",
            "grid_template_rows": null,
            "right": null,
            "justify_content": null,
            "_view_module": "@jupyter-widgets/base",
            "overflow": null,
            "_model_module_version": "1.2.0",
            "_view_count": null,
            "flex_flow": null,
            "width": null,
            "min_width": null,
            "border": null,
            "align_items": null,
            "bottom": null,
            "_model_module": "@jupyter-widgets/base",
            "top": null,
            "grid_column": null,
            "overflow_y": null,
            "overflow_x": null,
            "grid_auto_flow": null,
            "grid_area": null,
            "grid_template_columns": null,
            "flex": null,
            "_model_name": "LayoutModel",
            "justify_items": null,
            "grid_row": null,
            "max_height": null,
            "align_content": null,
            "visibility": null,
            "align_self": null,
            "height": null,
            "min_height": null,
            "padding": null,
            "grid_auto_rows": null,
            "grid_gap": null,
            "max_width": null,
            "order": null,
            "_view_module_version": "1.2.0",
            "grid_template_areas": null,
            "object_position": null,
            "object_fit": null,
            "grid_auto_columns": null,
            "margin": null,
            "display": null,
            "left": null
          }
        },
        "dfbf4a76d8864ce1bd00be1aa35b716d": {
          "model_module": "@jupyter-widgets/controls",
          "model_name": "HBoxModel",
          "state": {
            "_view_name": "HBoxView",
            "_dom_classes": [],
            "_model_name": "HBoxModel",
            "_view_module": "@jupyter-widgets/controls",
            "_model_module_version": "1.5.0",
            "_view_count": null,
            "_view_module_version": "1.5.0",
            "box_style": "",
            "layout": "IPY_MODEL_8a386c5a12a04f16a7cffcb3c6ba6cfd",
            "_model_module": "@jupyter-widgets/controls",
            "children": [
              "IPY_MODEL_e2d93f475f73445c922d6d4f4df303d7",
              "IPY_MODEL_73da1da967b741c38041b1749868db9c"
            ]
          }
        },
        "8a386c5a12a04f16a7cffcb3c6ba6cfd": {
          "model_module": "@jupyter-widgets/base",
          "model_name": "LayoutModel",
          "state": {
            "_view_name": "LayoutView",
            "grid_template_rows": null,
            "right": null,
            "justify_content": null,
            "_view_module": "@jupyter-widgets/base",
            "overflow": null,
            "_model_module_version": "1.2.0",
            "_view_count": null,
            "flex_flow": null,
            "width": null,
            "min_width": null,
            "border": null,
            "align_items": null,
            "bottom": null,
            "_model_module": "@jupyter-widgets/base",
            "top": null,
            "grid_column": null,
            "overflow_y": null,
            "overflow_x": null,
            "grid_auto_flow": null,
            "grid_area": null,
            "grid_template_columns": null,
            "flex": null,
            "_model_name": "LayoutModel",
            "justify_items": null,
            "grid_row": null,
            "max_height": null,
            "align_content": null,
            "visibility": null,
            "align_self": null,
            "height": null,
            "min_height": null,
            "padding": null,
            "grid_auto_rows": null,
            "grid_gap": null,
            "max_width": null,
            "order": null,
            "_view_module_version": "1.2.0",
            "grid_template_areas": null,
            "object_position": null,
            "object_fit": null,
            "grid_auto_columns": null,
            "margin": null,
            "display": null,
            "left": null
          }
        },
        "e2d93f475f73445c922d6d4f4df303d7": {
          "model_module": "@jupyter-widgets/controls",
          "model_name": "FloatProgressModel",
          "state": {
            "_view_name": "ProgressView",
            "style": "IPY_MODEL_d0ae3225ebbf4767813d547d4022baa3",
            "_dom_classes": [],
            "description": "Downloading: 100%",
            "_model_name": "FloatProgressModel",
            "bar_style": "success",
            "max": 657434796,
            "_view_module": "@jupyter-widgets/controls",
            "_model_module_version": "1.5.0",
            "value": 657434796,
            "_view_count": null,
            "_view_module_version": "1.5.0",
            "orientation": "horizontal",
            "min": 0,
            "description_tooltip": null,
            "_model_module": "@jupyter-widgets/controls",
            "layout": "IPY_MODEL_2f7adb2c79894da98d5d23e6b33ba68c"
          }
        },
        "73da1da967b741c38041b1749868db9c": {
          "model_module": "@jupyter-widgets/controls",
          "model_name": "HTMLModel",
          "state": {
            "_view_name": "HTMLView",
            "style": "IPY_MODEL_a68ccadec9b6444ebf7a3c32705cdf55",
            "_dom_classes": [],
            "description": "",
            "_model_name": "HTMLModel",
            "placeholder": "​",
            "_view_module": "@jupyter-widgets/controls",
            "_model_module_version": "1.5.0",
            "value": " 657M/657M [00:26&lt;00:00, 24.5MB/s]",
            "_view_count": null,
            "_view_module_version": "1.5.0",
            "description_tooltip": null,
            "_model_module": "@jupyter-widgets/controls",
            "layout": "IPY_MODEL_a336ec303eba4fc694d717d6c8027018"
          }
        },
        "d0ae3225ebbf4767813d547d4022baa3": {
          "model_module": "@jupyter-widgets/controls",
          "model_name": "ProgressStyleModel",
          "state": {
            "_view_name": "StyleView",
            "_model_name": "ProgressStyleModel",
            "description_width": "initial",
            "_view_module": "@jupyter-widgets/base",
            "_model_module_version": "1.5.0",
            "_view_count": null,
            "_view_module_version": "1.2.0",
            "bar_color": null,
            "_model_module": "@jupyter-widgets/controls"
          }
        },
        "2f7adb2c79894da98d5d23e6b33ba68c": {
          "model_module": "@jupyter-widgets/base",
          "model_name": "LayoutModel",
          "state": {
            "_view_name": "LayoutView",
            "grid_template_rows": null,
            "right": null,
            "justify_content": null,
            "_view_module": "@jupyter-widgets/base",
            "overflow": null,
            "_model_module_version": "1.2.0",
            "_view_count": null,
            "flex_flow": null,
            "width": null,
            "min_width": null,
            "border": null,
            "align_items": null,
            "bottom": null,
            "_model_module": "@jupyter-widgets/base",
            "top": null,
            "grid_column": null,
            "overflow_y": null,
            "overflow_x": null,
            "grid_auto_flow": null,
            "grid_area": null,
            "grid_template_columns": null,
            "flex": null,
            "_model_name": "LayoutModel",
            "justify_items": null,
            "grid_row": null,
            "max_height": null,
            "align_content": null,
            "visibility": null,
            "align_self": null,
            "height": null,
            "min_height": null,
            "padding": null,
            "grid_auto_rows": null,
            "grid_gap": null,
            "max_width": null,
            "order": null,
            "_view_module_version": "1.2.0",
            "grid_template_areas": null,
            "object_position": null,
            "object_fit": null,
            "grid_auto_columns": null,
            "margin": null,
            "display": null,
            "left": null
          }
        },
        "a68ccadec9b6444ebf7a3c32705cdf55": {
          "model_module": "@jupyter-widgets/controls",
          "model_name": "DescriptionStyleModel",
          "state": {
            "_view_name": "StyleView",
            "_model_name": "DescriptionStyleModel",
            "description_width": "",
            "_view_module": "@jupyter-widgets/base",
            "_model_module_version": "1.5.0",
            "_view_count": null,
            "_view_module_version": "1.2.0",
            "_model_module": "@jupyter-widgets/controls"
          }
        },
        "a336ec303eba4fc694d717d6c8027018": {
          "model_module": "@jupyter-widgets/base",
          "model_name": "LayoutModel",
          "state": {
            "_view_name": "LayoutView",
            "grid_template_rows": null,
            "right": null,
            "justify_content": null,
            "_view_module": "@jupyter-widgets/base",
            "overflow": null,
            "_model_module_version": "1.2.0",
            "_view_count": null,
            "flex_flow": null,
            "width": null,
            "min_width": null,
            "border": null,
            "align_items": null,
            "bottom": null,
            "_model_module": "@jupyter-widgets/base",
            "top": null,
            "grid_column": null,
            "overflow_y": null,
            "overflow_x": null,
            "grid_auto_flow": null,
            "grid_area": null,
            "grid_template_columns": null,
            "flex": null,
            "_model_name": "LayoutModel",
            "justify_items": null,
            "grid_row": null,
            "max_height": null,
            "align_content": null,
            "visibility": null,
            "align_self": null,
            "height": null,
            "min_height": null,
            "padding": null,
            "grid_auto_rows": null,
            "grid_gap": null,
            "max_width": null,
            "order": null,
            "_view_module_version": "1.2.0",
            "grid_template_areas": null,
            "object_position": null,
            "object_fit": null,
            "grid_auto_columns": null,
            "margin": null,
            "display": null,
            "left": null
          }
        }
      }
    },
    "accelerator": "GPU"
  },
  "cells": [
    {
      "cell_type": "code",
      "metadata": {
        "id": "00XWX1w_MlkQ",
        "outputId": "2c4a892b-ea1e-4c17-fc83-3fc7440e43f1",
        "colab": {
          "base_uri": "https://localhost:8080/"
        }
      },
      "source": [
        "!pip3 install transformers"
      ],
      "execution_count": null,
      "outputs": [
        {
          "output_type": "stream",
          "text": [
            "Collecting transformers\n",
            "\u001b[?25l  Downloading https://files.pythonhosted.org/packages/2c/4e/4f1ede0fd7a36278844a277f8d53c21f88f37f3754abf76a5d6224f76d4a/transformers-3.4.0-py3-none-any.whl (1.3MB)\n",
            "\r\u001b[K     |▎                               | 10kB 22.8MB/s eta 0:00:01\r\u001b[K     |▌                               | 20kB 18.6MB/s eta 0:00:01\r\u001b[K     |▉                               | 30kB 11.6MB/s eta 0:00:01\r\u001b[K     |█                               | 40kB 10.2MB/s eta 0:00:01\r\u001b[K     |█▎                              | 51kB 8.0MB/s eta 0:00:01\r\u001b[K     |█▋                              | 61kB 8.1MB/s eta 0:00:01\r\u001b[K     |█▉                              | 71kB 8.2MB/s eta 0:00:01\r\u001b[K     |██                              | 81kB 8.1MB/s eta 0:00:01\r\u001b[K     |██▍                             | 92kB 7.9MB/s eta 0:00:01\r\u001b[K     |██▋                             | 102kB 8.1MB/s eta 0:00:01\r\u001b[K     |██▉                             | 112kB 8.1MB/s eta 0:00:01\r\u001b[K     |███▏                            | 122kB 8.1MB/s eta 0:00:01\r\u001b[K     |███▍                            | 133kB 8.1MB/s eta 0:00:01\r\u001b[K     |███▋                            | 143kB 8.1MB/s eta 0:00:01\r\u001b[K     |████                            | 153kB 8.1MB/s eta 0:00:01\r\u001b[K     |████▏                           | 163kB 8.1MB/s eta 0:00:01\r\u001b[K     |████▍                           | 174kB 8.1MB/s eta 0:00:01\r\u001b[K     |████▊                           | 184kB 8.1MB/s eta 0:00:01\r\u001b[K     |█████                           | 194kB 8.1MB/s eta 0:00:01\r\u001b[K     |█████▏                          | 204kB 8.1MB/s eta 0:00:01\r\u001b[K     |█████▌                          | 215kB 8.1MB/s eta 0:00:01\r\u001b[K     |█████▊                          | 225kB 8.1MB/s eta 0:00:01\r\u001b[K     |██████                          | 235kB 8.1MB/s eta 0:00:01\r\u001b[K     |██████▎                         | 245kB 8.1MB/s eta 0:00:01\r\u001b[K     |██████▌                         | 256kB 8.1MB/s eta 0:00:01\r\u001b[K     |██████▊                         | 266kB 8.1MB/s eta 0:00:01\r\u001b[K     |███████                         | 276kB 8.1MB/s eta 0:00:01\r\u001b[K     |███████▎                        | 286kB 8.1MB/s eta 0:00:01\r\u001b[K     |███████▋                        | 296kB 8.1MB/s eta 0:00:01\r\u001b[K     |███████▉                        | 307kB 8.1MB/s eta 0:00:01\r\u001b[K     |████████                        | 317kB 8.1MB/s eta 0:00:01\r\u001b[K     |████████▍                       | 327kB 8.1MB/s eta 0:00:01\r\u001b[K     |████████▋                       | 337kB 8.1MB/s eta 0:00:01\r\u001b[K     |████████▉                       | 348kB 8.1MB/s eta 0:00:01\r\u001b[K     |█████████▏                      | 358kB 8.1MB/s eta 0:00:01\r\u001b[K     |█████████▍                      | 368kB 8.1MB/s eta 0:00:01\r\u001b[K     |█████████▋                      | 378kB 8.1MB/s eta 0:00:01\r\u001b[K     |██████████                      | 389kB 8.1MB/s eta 0:00:01\r\u001b[K     |██████████▏                     | 399kB 8.1MB/s eta 0:00:01\r\u001b[K     |██████████▍                     | 409kB 8.1MB/s eta 0:00:01\r\u001b[K     |██████████▊                     | 419kB 8.1MB/s eta 0:00:01\r\u001b[K     |███████████                     | 430kB 8.1MB/s eta 0:00:01\r\u001b[K     |███████████▏                    | 440kB 8.1MB/s eta 0:00:01\r\u001b[K     |███████████▌                    | 450kB 8.1MB/s eta 0:00:01\r\u001b[K     |███████████▊                    | 460kB 8.1MB/s eta 0:00:01\r\u001b[K     |████████████                    | 471kB 8.1MB/s eta 0:00:01\r\u001b[K     |████████████▎                   | 481kB 8.1MB/s eta 0:00:01\r\u001b[K     |████████████▌                   | 491kB 8.1MB/s eta 0:00:01\r\u001b[K     |████████████▊                   | 501kB 8.1MB/s eta 0:00:01\r\u001b[K     |█████████████                   | 512kB 8.1MB/s eta 0:00:01\r\u001b[K     |█████████████▎                  | 522kB 8.1MB/s eta 0:00:01\r\u001b[K     |█████████████▌                  | 532kB 8.1MB/s eta 0:00:01\r\u001b[K     |█████████████▉                  | 542kB 8.1MB/s eta 0:00:01\r\u001b[K     |██████████████                  | 552kB 8.1MB/s eta 0:00:01\r\u001b[K     |██████████████▍                 | 563kB 8.1MB/s eta 0:00:01\r\u001b[K     |██████████████▋                 | 573kB 8.1MB/s eta 0:00:01\r\u001b[K     |██████████████▉                 | 583kB 8.1MB/s eta 0:00:01\r\u001b[K     |███████████████▏                | 593kB 8.1MB/s eta 0:00:01\r\u001b[K     |███████████████▍                | 604kB 8.1MB/s eta 0:00:01\r\u001b[K     |███████████████▋                | 614kB 8.1MB/s eta 0:00:01\r\u001b[K     |████████████████                | 624kB 8.1MB/s eta 0:00:01\r\u001b[K     |████████████████▏               | 634kB 8.1MB/s eta 0:00:01\r\u001b[K     |████████████████▍               | 645kB 8.1MB/s eta 0:00:01\r\u001b[K     |████████████████▊               | 655kB 8.1MB/s eta 0:00:01\r\u001b[K     |█████████████████               | 665kB 8.1MB/s eta 0:00:01\r\u001b[K     |█████████████████▏              | 675kB 8.1MB/s eta 0:00:01\r\u001b[K     |█████████████████▌              | 686kB 8.1MB/s eta 0:00:01\r\u001b[K     |█████████████████▊              | 696kB 8.1MB/s eta 0:00:01\r\u001b[K     |██████████████████              | 706kB 8.1MB/s eta 0:00:01\r\u001b[K     |██████████████████▎             | 716kB 8.1MB/s eta 0:00:01\r\u001b[K     |██████████████████▌             | 727kB 8.1MB/s eta 0:00:01\r\u001b[K     |██████████████████▊             | 737kB 8.1MB/s eta 0:00:01\r\u001b[K     |███████████████████             | 747kB 8.1MB/s eta 0:00:01\r\u001b[K     |███████████████████▎            | 757kB 8.1MB/s eta 0:00:01\r\u001b[K     |███████████████████▌            | 768kB 8.1MB/s eta 0:00:01\r\u001b[K     |███████████████████▉            | 778kB 8.1MB/s eta 0:00:01\r\u001b[K     |████████████████████            | 788kB 8.1MB/s eta 0:00:01\r\u001b[K     |████████████████████▎           | 798kB 8.1MB/s eta 0:00:01\r\u001b[K     |████████████████████▋           | 808kB 8.1MB/s eta 0:00:01\r\u001b[K     |████████████████████▉           | 819kB 8.1MB/s eta 0:00:01\r\u001b[K     |█████████████████████           | 829kB 8.1MB/s eta 0:00:01\r\u001b[K     |█████████████████████▍          | 839kB 8.1MB/s eta 0:00:01\r\u001b[K     |█████████████████████▋          | 849kB 8.1MB/s eta 0:00:01\r\u001b[K     |██████████████████████          | 860kB 8.1MB/s eta 0:00:01\r\u001b[K     |██████████████████████▏         | 870kB 8.1MB/s eta 0:00:01\r\u001b[K     |██████████████████████▍         | 880kB 8.1MB/s eta 0:00:01\r\u001b[K     |██████████████████████▊         | 890kB 8.1MB/s eta 0:00:01\r\u001b[K     |███████████████████████         | 901kB 8.1MB/s eta 0:00:01\r\u001b[K     |███████████████████████▏        | 911kB 8.1MB/s eta 0:00:01\r\u001b[K     |███████████████████████▌        | 921kB 8.1MB/s eta 0:00:01\r\u001b[K     |███████████████████████▊        | 931kB 8.1MB/s eta 0:00:01\r\u001b[K     |████████████████████████        | 942kB 8.1MB/s eta 0:00:01\r\u001b[K     |████████████████████████▎       | 952kB 8.1MB/s eta 0:00:01\r\u001b[K     |████████████████████████▌       | 962kB 8.1MB/s eta 0:00:01\r\u001b[K     |████████████████████████▊       | 972kB 8.1MB/s eta 0:00:01\r\u001b[K     |█████████████████████████       | 983kB 8.1MB/s eta 0:00:01\r\u001b[K     |█████████████████████████▎      | 993kB 8.1MB/s eta 0:00:01\r\u001b[K     |█████████████████████████▌      | 1.0MB 8.1MB/s eta 0:00:01\r\u001b[K     |█████████████████████████▉      | 1.0MB 8.1MB/s eta 0:00:01\r\u001b[K     |██████████████████████████      | 1.0MB 8.1MB/s eta 0:00:01\r\u001b[K     |██████████████████████████▎     | 1.0MB 8.1MB/s eta 0:00:01\r\u001b[K     |██████████████████████████▋     | 1.0MB 8.1MB/s eta 0:00:01\r\u001b[K     |██████████████████████████▉     | 1.1MB 8.1MB/s eta 0:00:01\r\u001b[K     |███████████████████████████     | 1.1MB 8.1MB/s eta 0:00:01\r\u001b[K     |███████████████████████████▍    | 1.1MB 8.1MB/s eta 0:00:01\r\u001b[K     |███████████████████████████▋    | 1.1MB 8.1MB/s eta 0:00:01\r\u001b[K     |███████████████████████████▉    | 1.1MB 8.1MB/s eta 0:00:01\r\u001b[K     |████████████████████████████▏   | 1.1MB 8.1MB/s eta 0:00:01\r\u001b[K     |████████████████████████████▍   | 1.1MB 8.1MB/s eta 0:00:01\r\u001b[K     |████████████████████████████▊   | 1.1MB 8.1MB/s eta 0:00:01\r\u001b[K     |█████████████████████████████   | 1.1MB 8.1MB/s eta 0:00:01\r\u001b[K     |█████████████████████████████▏  | 1.1MB 8.1MB/s eta 0:00:01\r\u001b[K     |█████████████████████████████▌  | 1.2MB 8.1MB/s eta 0:00:01\r\u001b[K     |█████████████████████████████▊  | 1.2MB 8.1MB/s eta 0:00:01\r\u001b[K     |██████████████████████████████  | 1.2MB 8.1MB/s eta 0:00:01\r\u001b[K     |██████████████████████████████▎ | 1.2MB 8.1MB/s eta 0:00:01\r\u001b[K     |██████████████████████████████▌ | 1.2MB 8.1MB/s eta 0:00:01\r\u001b[K     |██████████████████████████████▊ | 1.2MB 8.1MB/s eta 0:00:01\r\u001b[K     |███████████████████████████████ | 1.2MB 8.1MB/s eta 0:00:01\r\u001b[K     |███████████████████████████████▎| 1.2MB 8.1MB/s eta 0:00:01\r\u001b[K     |███████████████████████████████▌| 1.2MB 8.1MB/s eta 0:00:01\r\u001b[K     |███████████████████████████████▉| 1.2MB 8.1MB/s eta 0:00:01\r\u001b[K     |████████████████████████████████| 1.3MB 8.1MB/s \n",
            "\u001b[?25hRequirement already satisfied: numpy in /usr/local/lib/python3.6/dist-packages (from transformers) (1.18.5)\n",
            "Requirement already satisfied: protobuf in /usr/local/lib/python3.6/dist-packages (from transformers) (3.12.4)\n",
            "Collecting tokenizers==0.9.2\n",
            "\u001b[?25l  Downloading https://files.pythonhosted.org/packages/7c/a5/78be1a55b2ac8d6a956f0a211d372726e2b1dd2666bb537fea9b03abd62c/tokenizers-0.9.2-cp36-cp36m-manylinux1_x86_64.whl (2.9MB)\n",
            "\u001b[K     |████████████████████████████████| 2.9MB 51.6MB/s \n",
            "\u001b[?25hRequirement already satisfied: dataclasses; python_version < \"3.7\" in /usr/local/lib/python3.6/dist-packages (from transformers) (0.7)\n",
            "Requirement already satisfied: packaging in /usr/local/lib/python3.6/dist-packages (from transformers) (20.4)\n",
            "Requirement already satisfied: regex!=2019.12.17 in /usr/local/lib/python3.6/dist-packages (from transformers) (2019.12.20)\n",
            "Requirement already satisfied: requests in /usr/local/lib/python3.6/dist-packages (from transformers) (2.23.0)\n",
            "Collecting sentencepiece!=0.1.92\n",
            "\u001b[?25l  Downloading https://files.pythonhosted.org/packages/e5/2d/6d4ca4bef9a67070fa1cac508606328329152b1df10bdf31fb6e4e727894/sentencepiece-0.1.94-cp36-cp36m-manylinux2014_x86_64.whl (1.1MB)\n",
            "\u001b[K     |████████████████████████████████| 1.1MB 51.5MB/s \n",
            "\u001b[?25hCollecting sacremoses\n",
            "\u001b[?25l  Downloading https://files.pythonhosted.org/packages/7d/34/09d19aff26edcc8eb2a01bed8e98f13a1537005d31e95233fd48216eed10/sacremoses-0.0.43.tar.gz (883kB)\n",
            "\u001b[K     |████████████████████████████████| 890kB 52.9MB/s \n",
            "\u001b[?25hRequirement already satisfied: filelock in /usr/local/lib/python3.6/dist-packages (from transformers) (3.0.12)\n",
            "Requirement already satisfied: tqdm>=4.27 in /usr/local/lib/python3.6/dist-packages (from transformers) (4.41.1)\n",
            "Requirement already satisfied: setuptools in /usr/local/lib/python3.6/dist-packages (from protobuf->transformers) (50.3.2)\n",
            "Requirement already satisfied: six>=1.9 in /usr/local/lib/python3.6/dist-packages (from protobuf->transformers) (1.15.0)\n",
            "Requirement already satisfied: pyparsing>=2.0.2 in /usr/local/lib/python3.6/dist-packages (from packaging->transformers) (2.4.7)\n",
            "Requirement already satisfied: idna<3,>=2.5 in /usr/local/lib/python3.6/dist-packages (from requests->transformers) (2.10)\n",
            "Requirement already satisfied: certifi>=2017.4.17 in /usr/local/lib/python3.6/dist-packages (from requests->transformers) (2020.6.20)\n",
            "Requirement already satisfied: chardet<4,>=3.0.2 in /usr/local/lib/python3.6/dist-packages (from requests->transformers) (3.0.4)\n",
            "Requirement already satisfied: urllib3!=1.25.0,!=1.25.1,<1.26,>=1.21.1 in /usr/local/lib/python3.6/dist-packages (from requests->transformers) (1.24.3)\n",
            "Requirement already satisfied: click in /usr/local/lib/python3.6/dist-packages (from sacremoses->transformers) (7.1.2)\n",
            "Requirement already satisfied: joblib in /usr/local/lib/python3.6/dist-packages (from sacremoses->transformers) (0.17.0)\n",
            "Building wheels for collected packages: sacremoses\n",
            "  Building wheel for sacremoses (setup.py) ... \u001b[?25l\u001b[?25hdone\n",
            "  Created wheel for sacremoses: filename=sacremoses-0.0.43-cp36-none-any.whl size=893257 sha256=98de34cfb49bc79a1dc7bf26d5a1dc8bf54fe6d9f160d50112e57f1f43fb0608\n",
            "  Stored in directory: /root/.cache/pip/wheels/29/3c/fd/7ce5c3f0666dab31a50123635e6fb5e19ceb42ce38d4e58f45\n",
            "Successfully built sacremoses\n",
            "Installing collected packages: tokenizers, sentencepiece, sacremoses, transformers\n",
            "Successfully installed sacremoses-0.0.43 sentencepiece-0.1.94 tokenizers-0.9.2 transformers-3.4.0\n"
          ],
          "name": "stdout"
        }
      ]
    },
    {
      "cell_type": "code",
      "metadata": {
        "id": "SlRU1E7DJnKt"
      },
      "source": [
        "from transformers import RobertaTokenizerFast, TFRobertaModel, RobertaConfig\n",
        "from tensorflow.keras.layers import Input, Dropout, Dense\n",
        "from tensorflow.keras.models import Model\n",
        "from tensorflow.keras.optimizers import Adam\n",
        "from tensorflow.keras.callbacks import EarlyStopping\n",
        "from tensorflow.keras.initializers import TruncatedNormal\n",
        "from tensorflow.keras.losses import BinaryCrossentropy\n",
        "from tensorflow.keras.metrics import BinaryAccuracy\n",
        "from tensorflow.keras.utils import to_categorical# And pandas for data import + sklearn because you allways need sklearn\n",
        "import pandas as pd\n",
        "from sklearn.model_selection import train_test_split\n",
        "from sklearn.metrics import classification_report\n",
        "import numpy as np"
      ],
      "execution_count": null,
      "outputs": []
    },
    {
      "cell_type": "code",
      "metadata": {
        "id": "QXr2xJBBLhiT",
        "outputId": "3e387664-380b-4c47-fddf-5e5a337306c3",
        "colab": {
          "base_uri": "https://localhost:8080/",
          "height": 371,
          "referenced_widgets": [
            "3bf66977d0904f7295f71a0dc8b135ff",
            "5c2c3b3db05846799fb1dde22af2e762",
            "f63f5375a9f64d6382e85bae429034c5",
            "7e6a8d2193644481839bff2a76c0e384",
            "48e151a845534b799632ddb30255063b",
            "19910c14005c499e8b1f476ad3aefc97",
            "c05a55496fd64318a395d080ec77080e",
            "19f410553fa44b07940a074d088068cb",
            "2af6cf1697594767b9a63cde4682fe9b",
            "5bd3888bd3ef42e2a6fbf1d7ccb3d04c",
            "0a0b881bd33c480bb6b945c453607fc5",
            "a111ac2b90654e3f8ce60d28e4d3ed8e",
            "7412b2c2c4454071b6f7ff940b7cb4aa",
            "f600b9e59f2042d0a9df8b9e20b54ffe",
            "81b87fee6be04fa3900235b6342ef159",
            "623f3b141b9e442fba12ba7379daff0a",
            "b6e829b6d7ca4a04967c44292d609b37",
            "ceb523de85d744c7a2ea2be050ff0de7",
            "4d89223e9d3c4886838a540bdbbbc3c4",
            "c6c41f7acae94a52a0fe5ea0cef0d57a",
            "b0261662799248c0844cd60a88eb1c34",
            "d9a8949a254a4a04bec2ecc6aec64797",
            "57590c5329f0428d862c61afb57a6de7",
            "6a4bc98a467f4d268cef8f734626158e",
            "abf41aa70e5c4f6daa6b21a5563c77f5",
            "cdb31022dce14607818c91568dc6cbd3",
            "cecd2cbd5c7c470bb7bb31691f7a8411",
            "cf3646d62a324ebb94aa28f4bfab5b5f",
            "f2f5421bf79740fcbd656cb7a72fbe23",
            "04f99e9c38304b5ba08c98657398b362",
            "6daa83965612485c8036a1b5d8db0a18",
            "27f86b3159564613904b18b22fc5aab6",
            "dfbf4a76d8864ce1bd00be1aa35b716d",
            "8a386c5a12a04f16a7cffcb3c6ba6cfd",
            "e2d93f475f73445c922d6d4f4df303d7",
            "73da1da967b741c38041b1749868db9c",
            "d0ae3225ebbf4767813d547d4022baa3",
            "2f7adb2c79894da98d5d23e6b33ba68c",
            "a68ccadec9b6444ebf7a3c32705cdf55",
            "a336ec303eba4fc694d717d6c8027018"
          ]
        }
      },
      "source": [
        "model_name = 'roberta-base'\n",
        "max_length = 80\n",
        "config = RobertaConfig.from_pretrained(model_name, out_hidden_states)\n",
        "config.output_hidden_states = True\n",
        "tokenizer = RobertaTokenizerFast.from_pretrained(pretrained_model_name_or_path = model_name, config = config)# Load the Transformers BERT model\n",
        "transformer_model = TFRobertaModel.from_pretrained(model_name, config = config)"
      ],
      "execution_count": null,
      "outputs": [
        {
          "output_type": "display_data",
          "data": {
            "application/vnd.jupyter.widget-view+json": {
              "model_id": "3bf66977d0904f7295f71a0dc8b135ff",
              "version_minor": 0,
              "version_major": 2
            },
            "text/plain": [
              "HBox(children=(FloatProgress(value=0.0, description='Downloading', max=481.0, style=ProgressStyle(description_…"
            ]
          },
          "metadata": {
            "tags": []
          }
        },
        {
          "output_type": "stream",
          "text": [
            "\n"
          ],
          "name": "stdout"
        },
        {
          "output_type": "display_data",
          "data": {
            "application/vnd.jupyter.widget-view+json": {
              "model_id": "2af6cf1697594767b9a63cde4682fe9b",
              "version_minor": 0,
              "version_major": 2
            },
            "text/plain": [
              "HBox(children=(FloatProgress(value=0.0, description='Downloading', max=898823.0, style=ProgressStyle(descripti…"
            ]
          },
          "metadata": {
            "tags": []
          }
        },
        {
          "output_type": "stream",
          "text": [
            "\n"
          ],
          "name": "stdout"
        },
        {
          "output_type": "display_data",
          "data": {
            "application/vnd.jupyter.widget-view+json": {
              "model_id": "b6e829b6d7ca4a04967c44292d609b37",
              "version_minor": 0,
              "version_major": 2
            },
            "text/plain": [
              "HBox(children=(FloatProgress(value=0.0, description='Downloading', max=456318.0, style=ProgressStyle(descripti…"
            ]
          },
          "metadata": {
            "tags": []
          }
        },
        {
          "output_type": "stream",
          "text": [
            "\n"
          ],
          "name": "stdout"
        },
        {
          "output_type": "display_data",
          "data": {
            "application/vnd.jupyter.widget-view+json": {
              "model_id": "abf41aa70e5c4f6daa6b21a5563c77f5",
              "version_minor": 0,
              "version_major": 2
            },
            "text/plain": [
              "HBox(children=(FloatProgress(value=0.0, description='Downloading', max=1355863.0, style=ProgressStyle(descript…"
            ]
          },
          "metadata": {
            "tags": []
          }
        },
        {
          "output_type": "stream",
          "text": [
            "\n"
          ],
          "name": "stdout"
        },
        {
          "output_type": "display_data",
          "data": {
            "application/vnd.jupyter.widget-view+json": {
              "model_id": "dfbf4a76d8864ce1bd00be1aa35b716d",
              "version_minor": 0,
              "version_major": 2
            },
            "text/plain": [
              "HBox(children=(FloatProgress(value=0.0, description='Downloading', max=657434796.0, style=ProgressStyle(descri…"
            ]
          },
          "metadata": {
            "tags": []
          }
        },
        {
          "output_type": "stream",
          "text": [
            "\n"
          ],
          "name": "stdout"
        },
        {
          "output_type": "stream",
          "text": [
            "Some layers from the model checkpoint at roberta-base were not used when initializing TFRobertaModel: ['lm_head']\n",
            "- This IS expected if you are initializing TFRobertaModel from the checkpoint of a model trained on another task or with another architecture (e.g. initializing a BertForSequenceClassification model from a BertForPretraining model).\n",
            "- This IS NOT expected if you are initializing TFRobertaModel from the checkpoint of a model that you expect to be exactly identical (initializing a BertForSequenceClassification model from a BertForSequenceClassification model).\n",
            "All the layers of TFRobertaModel were initialized from the model checkpoint at roberta-base.\n",
            "If your task is similar to the task the model of the checkpoint was trained on, you can already use TFRobertaModel for predictions without further training.\n"
          ],
          "name": "stderr"
        }
      ]
    },
    {
      "cell_type": "code",
      "metadata": {
        "id": "RrWcgcGSLm0g",
        "outputId": "fda2d43f-7d10-4dae-ac6d-979bbb71b315",
        "colab": {
          "base_uri": "https://localhost:8080/"
        }
      },
      "source": [
        "bert = transformer_model.layers[0]\n",
        "input_ids = Input(shape=(max_length,), name='input_ids', dtype='int32')\n",
        "inputs = {'input_ids': input_ids}\n",
        "bert_model = bert(inputs)[1]\n",
        "pooled_output = Dense(units=64, kernel_initializer=TruncatedNormal(stddev=config.initializer_range), name='out0')(bert_model)\n",
        "outputs = Dense(units=1, kernel_initializer=TruncatedNormal(stddev=config.initializer_range), name='out1')(pooled_output)\n",
        "model = Model(inputs=inputs, outputs=outputs, name='BERT')\n",
        "model.summary()"
      ],
      "execution_count": null,
      "outputs": [
        {
          "output_type": "stream",
          "text": [
            "Model: \"BERT\"\n",
            "_________________________________________________________________\n",
            "Layer (type)                 Output Shape              Param #   \n",
            "=================================================================\n",
            "input_ids (InputLayer)       [(None, 80)]              0         \n",
            "_________________________________________________________________\n",
            "roberta (TFRobertaMainLayer) ((None, 80, 768), (None,  124645632 \n",
            "_________________________________________________________________\n",
            "out0 (Dense)                 (None, 64)                49216     \n",
            "_________________________________________________________________\n",
            "out1 (Dense)                 (None, 1)                 65        \n",
            "=================================================================\n",
            "Total params: 124,694,913\n",
            "Trainable params: 124,694,913\n",
            "Non-trainable params: 0\n",
            "_________________________________________________________________\n"
          ],
          "name": "stdout"
        }
      ]
    },
    {
      "cell_type": "code",
      "metadata": {
        "id": "YdBFTjc0S9vj",
        "outputId": "186ae957-b6de-4a17-b00b-0032639a129e",
        "colab": {
          "base_uri": "https://localhost:8080/"
        }
      },
      "source": [
        "from google.colab import drive\n",
        "drive.mount('/content/gdrive')"
      ],
      "execution_count": null,
      "outputs": [
        {
          "output_type": "stream",
          "text": [
            "Mounted at /content/gdrive\n"
          ],
          "name": "stdout"
        }
      ]
    },
    {
      "cell_type": "code",
      "metadata": {
        "id": "GFhwOwKyS7PU"
      },
      "source": [
        "data = open(\"/content/gdrive/My Drive/NLP_Proj/merged.txt\")\n",
        "fin = data.readlines()"
      ],
      "execution_count": null,
      "outputs": []
    },
    {
      "cell_type": "code",
      "metadata": {
        "id": "zKxKYWOsLsSy"
      },
      "source": [
        "loss = BinaryCrossentropy(from_logits=False)\n",
        "metric = BinaryAccuracy('accuracy')\n",
        "\n",
        "optimizer = Adam(\n",
        "    learning_rate=5e-05,\n",
        "    epsilon=1e-08,\n",
        "    decay=0.01,\n",
        "    clipnorm=1.0)\n",
        "\n",
        "model.compile(\n",
        "    optimizer = optimizer,\n",
        "    loss = loss,\n",
        "    metrics = metric)\n",
        "\n",
        "\n",
        "x = tokenizer(\n",
        "    text=fin,\n",
        "    add_special_tokens=True,\n",
        "    max_length=max_length,\n",
        "    truncation=True,\n",
        "    padding=True,\n",
        "    return_tensors='tf',\n",
        "    return_token_type_ids = False,\n",
        "    return_attention_mask = False,\n",
        "    verbose = True)\n",
        "\n",
        "out= []\n",
        "for i in range(24661):\n",
        "  out.append(1)\n",
        "for i in range(63436-24661):\n",
        "  out.append(0)\n",
        "\n",
        "y=np.array(out)\n"
      ],
      "execution_count": null,
      "outputs": []
    },
    {
      "cell_type": "code",
      "metadata": {
        "id": "ncf27nJZL4to",
        "outputId": "11aa74dd-4c30-46d7-f207-8563a507470d",
        "colab": {
          "base_uri": "https://localhost:8080/"
        }
      },
      "source": [
        "history = model.fit(\n",
        "    x={'input_ids': x['input_ids']},\n",
        "    y=y,\n",
        "    validation_split=0.1,\n",
        "    batch_size=64,\n",
        "    epochs=1)\n"
      ],
      "execution_count": null,
      "outputs": [
        {
          "output_type": "stream",
          "text": [
            "893/893 [==============================] - 985s 1s/step - loss: 0.5222 - accuracy: 0.8064 - val_loss: 0.3603 - val_accuracy: 0.8875\n"
          ],
          "name": "stdout"
        }
      ]
    },
    {
      "cell_type": "code",
      "metadata": {
        "id": "-c0s0YAkDQ-g"
      },
      "source": [
        "df = pd.read_csv(\"/content/gdrive/My Drive/NLP_Proj/test.csv\")"
      ],
      "execution_count": null,
      "outputs": []
    },
    {
      "cell_type": "code",
      "metadata": {
        "id": "7jnEiJGHR9JH"
      },
      "source": [
        "list1 = list(df['col1'])\n",
        "list2 = list(df['col2'])\n",
        "flist = list1+list2\n",
        "flist = set(flist)\n",
        "flist = list(flist)"
      ],
      "execution_count": null,
      "outputs": []
    },
    {
      "cell_type": "code",
      "metadata": {
        "id": "5wRyFpCbWZUk",
        "outputId": "c00df4d5-b78d-490c-fdf1-3e43f4f766e7",
        "colab": {
          "base_uri": "https://localhost:8080/",
          "height": 35
        }
      },
      "source": [
        "flist[1]"
      ],
      "execution_count": null,
      "outputs": [
        {
          "output_type": "execute_result",
          "data": {
            "application/vnd.google.colaboratory.intrinsic+json": {
              "type": "string"
            },
            "text/plain": [
              "'Optimization of the parameters of an MT system is now done using automatic metrics, primarily BLEU.'"
            ]
          },
          "metadata": {
            "tags": []
          },
          "execution_count": 32
        }
      ]
    },
    {
      "cell_type": "code",
      "metadata": {
        "id": "mibX4gGPbhrU",
        "outputId": "4e6c3689-9304-426f-c6e7-d1113b941ef5",
        "colab": {
          "base_uri": "https://localhost:8080/",
          "height": 53
        }
      },
      "source": [
        "fin[0]"
      ],
      "execution_count": null,
      "outputs": [
        {
          "output_type": "execute_result",
          "data": {
            "application/vnd.google.colaboratory.intrinsic+json": {
              "type": "string"
            },
            "text/plain": [
              "'The conversion uses head propagation rules to find the head on the right-hand side of the CFG rules, first proposed for English in (Magerman, 1995). $$$$$ Since most natural language rules are not absolute, the disambiguation criteria discovered in this work are never applied deterministically.\\n'"
            ]
          },
          "metadata": {
            "tags": []
          },
          "execution_count": 30
        }
      ]
    },
    {
      "cell_type": "code",
      "metadata": {
        "id": "KRBxXTLSGBS2"
      },
      "source": [
        "\n",
        "x_test = tokenizer(\n",
        "    text=flist[1:],\n",
        "    add_special_tokens=True,\n",
        "    max_length=max_length,\n",
        "    truncation=True,\n",
        "    padding=True,\n",
        "    return_tensors='tf',\n",
        "    return_token_type_ids = False,\n",
        "    return_attention_mask = False,\n",
        "    verbose = True)\n"
      ],
      "execution_count": null,
      "outputs": []
    },
    {
      "cell_type": "code",
      "metadata": {
        "id": "pZznX-Owbo2u"
      },
      "source": [
        ""
      ],
      "execution_count": null,
      "outputs": []
    }
  ]
}